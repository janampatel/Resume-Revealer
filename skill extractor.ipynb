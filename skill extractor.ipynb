{
 "cells": [
  {
   "cell_type": "code",
   "execution_count": null,
   "id": "4537dde9-8324-4745-b8e9-6ef6b1d113b3",
   "metadata": {},
   "outputs": [],
   "source": [
    "from transformers import pipeline\n",
    "\n",
    "# Load the pre-trained model for skill extraction\n",
    "model_name = \"MohammedShaneeb/en_SkillExtraction\"\n",
    "skill_extractor = pipeline(\"token-classification\", model=model_name)\n",
    "\n",
    "def extract_skills_from_text(text):\n",
    "  \n",
    "  predictions = skill_extractor(text)\n",
    "  skills = []\n",
    "  for token, prediction in zip(text.split(), predictions[\"token_ids\"]):\n",
    "    if prediction == 1:  # Adjust the index based on your model's label mapping\n",
    "      skills.append(token)\n",
    "  return skills\n",
    "\n",
    "def extract_skills_from_sections(education_text, skills_text, experience_text):\n",
    "  \n",
    "  extracted_skills = {\n",
    "      \"Education\": extract_skills_from_text(education_text),\n",
    "      \"Skills\": extract_skills_from_text(skills_text),\n",
    "      \"Experience\": extract_skills_from_text(experience_text)\n",
    "  }\n",
    "  return extracted_skills\n",
    "\n",
    "# Example usage\n",
    "education_text = \"Master of Science in Computer Science from University X\"\n",
    "skills_text = \"Python, Java, JavaScript, Machine Learning, Deep Learning\"\n",
    "experience_text = \"Developed a recommendation system using Python and machine learning.\"\n",
    "\n",
    "extracted_skills = extract_skills_from_sections(education_text, skills_text, experience_text)\n",
    "\n",
    "for section, skills in extracted_skills.items():\n",
    "  print(f\"Skills from {section}:\")\n",
    "  if skills:\n",
    "    print(*skills, sep=\", \")\n",
    "  else:\n",
    "    print(\"No skills found.\")\n"
   ]
  }
 ],
 "metadata": {
  "kernelspec": {
   "display_name": "Python 3 (ipykernel)",
   "language": "python",
   "name": "python3"
  },
  "language_info": {
   "codemirror_mode": {
    "name": "ipython",
    "version": 3
   },
   "file_extension": ".py",
   "mimetype": "text/x-python",
   "name": "python",
   "nbconvert_exporter": "python",
   "pygments_lexer": "ipython3",
   "version": "3.11.7"
  }
 },
 "nbformat": 4,
 "nbformat_minor": 5
}
