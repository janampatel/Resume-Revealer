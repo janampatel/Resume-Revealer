{
 "cells": [
  {
   "cell_type": "markdown",
   "id": "2c1d23e8-e2d0-4a70-8441-89d242f9b413",
   "metadata": {},
   "source": [
    "### Job title classification"
   ]
  },
  {
   "cell_type": "code",
   "execution_count": null,
   "id": "72122482-4a53-4caa-9a3a-6ed6e5c316fe",
   "metadata": {},
   "outputs": [],
   "source": [
    "import pandas as pd\n",
    "from sklearn.model_selection import train_test_split\n",
    "from sklearn.preprocessing import LabelEncoder\n",
    "from transformers import AutoTokenizer, AutoModelForSequenceClassification, TrainingArguments, Trainer\n",
    "\n",
    "# Load data from Excel file\n",
    "file_path = \"Occupation Data.xlsx\"  # Update with the path to your Excel file\n",
    "df = pd.read_excel(file_path)\n",
    "\n",
    "# Drop irrelevant column\n",
    "df.drop(columns=['O*NET-SOC Code'], inplace=True)\n",
    "\n",
    "# Encode job titles as numerical labels\n",
    "label_encoder = LabelEncoder()\n",
    "df['Label'] = label_encoder.fit_transform(df['Title'])\n",
    "\n"
   ]
  },
  {
   "cell_type": "code",
   "execution_count": null,
   "id": "1de284d1-6a39-4b21-99af-6169a9fb6b6d",
   "metadata": {},
   "outputs": [],
   "source": [
    "# Split data into descriptions and labels\n",
    "train_texts, test_texts, train_labels, test_labels = train_test_split(\n",
    "    df['Description'].values.tolist(),\n",
    "    df['Label'].values.tolist(),\n",
    "    test_size=0.2,\n",
    "    random_state=42\n",
    ")\n",
    "\n",
    "# Preprocess text data for BERT model\n",
    "tokenizer = AutoTokenizer.from_pretrained(\"bert-base-uncased\")\n",
    "train_encodings = tokenizer(train_texts, truncation=True, padding=True)\n",
    "test_encodings = tokenizer(test_texts, truncation=True, padding=True)\n",
    "\n",
    "# Define model and training arguments (remains the same)\n",
    "model = AutoModelForSequenceClassification.from_pretrained(\"bert-base-uncased\", num_labels=len(label_encoder.classes_))\n",
    "training_args = TrainingArguments(\n",
    "    output_dir=\"./results\",\n",
    "    per_device_train_batch_size=16,\n",
    "    per_device_eval_batch_size=16,\n",
    "    num_train_epochs=3,\n",
    "    evaluation_strategy=\"epoch\",\n",
    "    eval_steps=100,\n",
    "    logging_steps=50,\n",
    ")\n",
    "\n",
    "# Create trainer and train the model (remains the same)\n",
    "trainer = Trainer(\n",
    "    model=model,\n",
    "    args=training_args,\n",
    "    train_dataset=train_encodings,\n",
    "    eval_dataset=test_encodings,\n",
    "    compute_metrics=lambda eval_pred: {\"accuracy\": (eval_pred.predictions == eval_pred.label_ids).mean()},\n",
    ")\n",
    "\n",
    "trainer.train()"
   ]
  },
  {
   "cell_type": "markdown",
   "id": "138f114d-a3d0-4ad3-b22b-e0de93b91551",
   "metadata": {},
   "source": [
    "### Parsed resume summariser and Occupation predictor"
   ]
  },
  {
   "cell_type": "code",
   "execution_count": null,
   "id": "082c48e9-8bc2-49d8-99d5-8e2248622f69",
   "metadata": {},
   "outputs": [],
   "source": [
    "# Load summarization model and tokenizer\n",
    "summarizer = pipeline(\"summarization\", model=\"Falconsai/text_summarization\")\n",
    "tokenizer = AutoTokenizer.from_pretrained(\"bert-base-uncased\")\n",
    "\n",
    "def predict_job_title(resume_text):\n",
    "  # Summarize resume text\n",
    "  summary = summarizer(resume_text, max_length=100)  # Limit summary length\n",
    "\n",
    "  # Tokenize summary and predict job title\n",
    "  summary_encoded = tokenizer(summary[0][\"generated_text\"], padding=\"max_length\", truncation=True)\n",
    "  prediction = trainer.predict(summary_encoded)\n",
    "  predicted_label = label_list.id2name[prediction.predictions.argmax()]\n",
    "\n",
    "  return predicted_label\n",
    "\n",
    "# Example usage\n",
    "resume_text = \"Your parsed resume text here...\"\n",
    "predicted_job_title = predict_job_title(resume_text)\n",
    "print(\"Predicted Job Title:\", predicted_job_title)\n"
   ]
  }
 ],
 "metadata": {
  "kernelspec": {
   "display_name": "Python 3 (ipykernel)",
   "language": "python",
   "name": "python3"
  },
  "language_info": {
   "codemirror_mode": {
    "name": "ipython",
    "version": 3
   },
   "file_extension": ".py",
   "mimetype": "text/x-python",
   "name": "python",
   "nbconvert_exporter": "python",
   "pygments_lexer": "ipython3",
   "version": "3.11.7"
  }
 },
 "nbformat": 4,
 "nbformat_minor": 5
}
